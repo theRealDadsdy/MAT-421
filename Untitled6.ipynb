{
  "nbformat": 4,
  "nbformat_minor": 0,
  "metadata": {
    "colab": {
      "name": "Untitled6.ipynb",
      "provenance": [],
      "authorship_tag": "ABX9TyMAKKrad7S6a650XPk11kBW",
      "include_colab_link": true
    },
    "kernelspec": {
      "name": "python3",
      "display_name": "Python 3"
    },
    "language_info": {
      "name": "python"
    }
  },
  "cells": [
    {
      "cell_type": "markdown",
      "metadata": {
        "id": "view-in-github",
        "colab_type": "text"
      },
      "source": [
        "<a href=\"https://colab.research.google.com/github/theRealDadsdy/MAT-421/blob/main/Untitled6.ipynb\" target=\"_parent\"><img src=\"https://colab.research.google.com/assets/colab-badge.svg\" alt=\"Open In Colab\"/></a>"
      ]
    },
    {
      "cell_type": "code",
      "execution_count": 9,
      "metadata": {
        "colab": {
          "base_uri": "https://localhost:8080/"
        },
        "id": "t04fiUMVAKjo",
        "outputId": "8d15a3f2-2f98-4e62-d0ab-e91e6cba50cc"
      },
      "outputs": [
        {
          "output_type": "stream",
          "name": "stdout",
          "text": [
            "The value of the function at\n",
            "0.0 is 0\n",
            "0.5 is 0.3457940145368026\n",
            "1.0 is 2.1223230591261677\n",
            "1.5 is 7.749801383381276\n",
            "2.0 is 23.74244868935431\n",
            "2.5 is 67.63386074584434\n",
            "3.0 is 186.61725403076673\n",
            "3.5 is 507.71732506955743\n",
            "4.0 is 1372.8322264267879\n",
            "4.5 is 3702.2109327076405\n",
            "5.0 is 9972.784567726685\n"
          ]
        }
      ],
      "source": [
        "def graph(f,start=-5,end=5,spacing=.5):\n",
        "  print(\"The value of the function at\")\n",
        "  for x in range(int(start/spacing), int(end/spacing)+1):\n",
        "    print(round(x*spacing,10),\"is\",f(round(x*spacing,10)))\n",
        "def dsolve(F,sx=0,sy=0):\n",
        "  def f(x):\n",
        "    y=sy\n",
        "    for i in range(int(100*(x-sx))):\n",
        "      y+=F(i/100,y)/100\n",
        "    return y\n",
        "  return f\n",
        "graph(dsolve(lambda x,y:x*2+y*2),0,5)"
      ]
    }
  ]
}