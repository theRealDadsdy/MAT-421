{
  "nbformat": 4,
  "nbformat_minor": 0,
  "metadata": {
    "colab": {
      "name": "Untitled0.ipynb",
      "provenance": [],
      "authorship_tag": "ABX9TyPa7QHrESvGu9e5yV+kCT4U",
      "include_colab_link": true
    },
    "kernelspec": {
      "name": "python3",
      "display_name": "Python 3"
    },
    "language_info": {
      "name": "python"
    }
  },
  "cells": [
    {
      "cell_type": "markdown",
      "metadata": {
        "id": "view-in-github",
        "colab_type": "text"
      },
      "source": [
        "<a href=\"https://colab.research.google.com/github/theRealDadsdy/MAT-421/blob/main/ModuleA.ipynb\" target=\"_parent\"><img src=\"https://colab.research.google.com/assets/colab-badge.svg\" alt=\"Open In Colab\"/></a>"
      ]
    },
    {
      "cell_type": "markdown",
      "source": [
        "Binary to decimal"
      ],
      "metadata": {
        "id": "eguzX0vxs_pN"
      }
    },
    {
      "cell_type": "code",
      "source": [
        "def binToDec(bin):\n",
        "  dec=0\n",
        "  for b in range(len(bin)):\n",
        "    dec+=bin[len(bin)-b-1]*(2**b)\n",
        "  return dec"
      ],
      "metadata": {
        "id": "kj7WLt5mkQec"
      },
      "execution_count": 11,
      "outputs": []
    },
    {
      "cell_type": "code",
      "source": [
        "binToDec([1,1,1])"
      ],
      "metadata": {
        "colab": {
          "base_uri": "https://localhost:8080/"
        },
        "id": "Zozu_YKqsMyq",
        "outputId": "eb51ddbf-5193-4a09-c378-5659303380a8"
      },
      "execution_count": 14,
      "outputs": [
        {
          "output_type": "execute_result",
          "data": {
            "text/plain": [
              "7"
            ]
          },
          "metadata": {},
          "execution_count": 14
        }
      ]
    },
    {
      "cell_type": "markdown",
      "source": [
        "Decimal to binary"
      ],
      "metadata": {
        "id": "x0iCOYT7tIv2"
      }
    },
    {
      "cell_type": "code",
      "source": [
        "def decToBin(dec):\n",
        "  bin=[]\n",
        "  while dec>0:\n",
        "    bin=[int(dec%2)]+bin\n",
        "    dec-=dec%2\n",
        "    dec/=2\n",
        "  return bin"
      ],
      "metadata": {
        "id": "y2w1VBs_tMxB"
      },
      "execution_count": 23,
      "outputs": []
    },
    {
      "cell_type": "code",
      "source": [
        "decToBin(17)"
      ],
      "metadata": {
        "colab": {
          "base_uri": "https://localhost:8080/"
        },
        "id": "qEeK0lWzt36p",
        "outputId": "1285e036-7b9c-4ee5-f4ec-ca9a6048c21b"
      },
      "execution_count": 25,
      "outputs": [
        {
          "output_type": "execute_result",
          "data": {
            "text/plain": [
              "[1, 0, 0, 0, 1]"
            ]
          },
          "metadata": {},
          "execution_count": 25
        }
      ]
    },
    {
      "cell_type": "code",
      "source": [
        "binToDec(decToBin(1079))"
      ],
      "metadata": {
        "colab": {
          "base_uri": "https://localhost:8080/"
        },
        "id": "b1veMJHZuO5e",
        "outputId": "37acb67d-f416-4235-bdc4-39d9a118bcd6"
      },
      "execution_count": 26,
      "outputs": [
        {
          "output_type": "execute_result",
          "data": {
            "text/plain": [
              "1079"
            ]
          },
          "metadata": {},
          "execution_count": 26
        }
      ]
    },
    {
      "cell_type": "markdown",
      "source": [
        "Binary adder"
      ],
      "metadata": {
        "id": "ax1E1O4uudJ6"
      }
    },
    {
      "cell_type": "code",
      "source": [
        "def binAdd(bin1,bin2):\n",
        "  carry=0\n",
        "  ans=[]\n",
        "  while len(bin1)<len(bin2):\n",
        "    bin1=[0]+bin1\n",
        "  while len(bin2)<len(bin1):\n",
        "    bin2=[0]+bin2\n",
        "  while len(bin1)>0:\n",
        "    ans=[(bin1[-1]+bin2[-1]+carry)%2]+ans\n",
        "    carry=int((bin1[-1]+bin2[-1]+carry)/2)\n",
        "    bin1.pop(-1);bin2.pop(-1)\n",
        "  ans=[carry]+ans\n",
        "  return ans"
      ],
      "metadata": {
        "id": "5NppFB3nufB4"
      },
      "execution_count": 40,
      "outputs": []
    },
    {
      "cell_type": "code",
      "source": [
        "binAdd([1,0,1],[1,1,0,1])"
      ],
      "metadata": {
        "colab": {
          "base_uri": "https://localhost:8080/"
        },
        "id": "rXSj-DR0zzv1",
        "outputId": "e747264b-2beb-4847-941c-095cbaaecc08"
      },
      "execution_count": 41,
      "outputs": [
        {
          "output_type": "execute_result",
          "data": {
            "text/plain": [
              "[1, 0, 0, 1, 0]"
            ]
          },
          "metadata": {},
          "execution_count": 41
        }
      ]
    },
    {
      "cell_type": "markdown",
      "source": [
        "Ieee to dec"
      ],
      "metadata": {
        "id": "qb8EGqbv0xfs"
      }
    },
    {
      "cell_type": "code",
      "source": [
        "def ieeeToDec(ieee):\n",
        "  ieee=list(ieee)\n",
        "  for x in range(len(ieee)):\n",
        "    ieee[x]=int(ieee[x])\n",
        "  s=ieee[0]\n",
        "  e=-1023\n",
        "  for b in range(1,12):\n",
        "    e+=ieee[12-b]*(2**(b-1))\n",
        "  f=1\n",
        "  for c in range(12,64):\n",
        "    f+=ieee[c]*(2**(11-c))\n",
        "  return(((-1)**s)*(2**e)*f)"
      ],
      "metadata": {
        "id": "ChLf-VxB01rC"
      },
      "execution_count": 100,
      "outputs": []
    },
    {
      "cell_type": "code",
      "source": [
        "ieeeToDec('1100000001001000000000000000000000000000000000000000000000000000')"
      ],
      "metadata": {
        "colab": {
          "base_uri": "https://localhost:8080/"
        },
        "id": "3iOf6uCc1yrG",
        "outputId": "ad714610-8080-4f59-ac2e-61d71bdc33b8"
      },
      "execution_count": 104,
      "outputs": [
        {
          "output_type": "execute_result",
          "data": {
            "text/plain": [
              "-48.0"
            ]
          },
          "metadata": {},
          "execution_count": 104
        }
      ]
    },
    {
      "cell_type": "markdown",
      "source": [
        "dec to ieee"
      ],
      "metadata": {
        "id": "L2Guopl7DNJK"
      }
    },
    {
      "cell_type": "code",
      "source": [
        "import math\n",
        "def decToIeee(dec):\n",
        "  l=math.floor(math.log(abs(dec),2))+1023\n",
        "  lb=[]\n",
        "  while l>0:\n",
        "    lb=[int(l%2)]+lb\n",
        "    l-=l%2\n",
        "    l/=2\n",
        "  f=abs(dec)/(2**(math.floor(math.log(abs(dec),2))))-1\n",
        "  fb=[]\n",
        "  while f>0:\n",
        "    if f>=.5:\n",
        "      fb=fb+[1]\n",
        "      f-=.5\n",
        "    else:\n",
        "      fb=fb+[0]\n",
        "    f*=2\n",
        "  ieee=[1-int(abs(dec)/2/dec+.5)]+[0]*(11-len(lb))+lb+fb+[0]*(52-len(fb))\n",
        "  return \"\".join([str(elem) for elem in ieee])"
      ],
      "metadata": {
        "id": "qesOEcaUDPJm"
      },
      "execution_count": 176,
      "outputs": []
    },
    {
      "cell_type": "code",
      "source": [
        "decToIeee(-15)"
      ],
      "metadata": {
        "colab": {
          "base_uri": "https://localhost:8080/",
          "height": 35
        },
        "id": "SDkydYnlDhRR",
        "outputId": "a2d7f668-085d-4718-a14c-5599f9bb8cf5"
      },
      "execution_count": 178,
      "outputs": [
        {
          "output_type": "execute_result",
          "data": {
            "application/vnd.google.colaboratory.intrinsic+json": {
              "type": "string"
            },
            "text/plain": [
              "'1100000000101110000000000000000000000000000000000000000000000000'"
            ]
          },
          "metadata": {},
          "execution_count": 178
        }
      ]
    }
  ]
}