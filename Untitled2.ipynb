{
  "nbformat": 4,
  "nbformat_minor": 0,
  "metadata": {
    "colab": {
      "name": "Untitled2.ipynb",
      "provenance": [],
      "authorship_tag": "ABX9TyO+ui5I6CFYWBnYvGNGg+20",
      "include_colab_link": true
    },
    "kernelspec": {
      "name": "python3",
      "display_name": "Python 3"
    },
    "language_info": {
      "name": "python"
    }
  },
  "cells": [
    {
      "cell_type": "markdown",
      "metadata": {
        "id": "view-in-github",
        "colab_type": "text"
      },
      "source": [
        "<a href=\"https://colab.research.google.com/github/theRealDadsdy/MAT-421/blob/main/Untitled2.ipynb\" target=\"_parent\"><img src=\"https://colab.research.google.com/assets/colab-badge.svg\" alt=\"Open In Colab\"/></a>"
      ]
    },
    {
      "cell_type": "markdown",
      "source": [
        "Newton Raphson\n",
        "\n"
      ],
      "metadata": {
        "id": "oi5BrHrENUsa"
      }
    },
    {
      "cell_type": "code",
      "execution_count": 3,
      "metadata": {
        "id": "P3qL3aRxpVnp"
      },
      "outputs": [],
      "source": [
        "def myRootNR(f,df,x,acc):\n",
        "  iter=0\n",
        "  while abs(f(x))>acc:\n",
        "    x=x-f(x)/df(x)\n",
        "    iter+=1\n",
        "  return x,iter"
      ]
    },
    {
      "cell_type": "code",
      "source": [
        "def f(x):\n",
        "  return x**2+3*x-17\n",
        "def df(x):\n",
        "  return 2*x+3\n",
        "myRootNR(f,df,10,.001)"
      ],
      "metadata": {
        "colab": {
          "base_uri": "https://localhost:8080/"
        },
        "id": "s0zij_IFPVJm",
        "outputId": "a26d3de6-1022-4d41-87af-b60bdaa32072"
      },
      "execution_count": 22,
      "outputs": [
        {
          "output_type": "execute_result",
          "data": {
            "text/plain": [
              "(2.887505035959227, 4)"
            ]
          },
          "metadata": {},
          "execution_count": 22
        }
      ]
    },
    {
      "cell_type": "markdown",
      "source": [
        "Bisection"
      ],
      "metadata": {
        "id": "xD_iQ1fKP_sy"
      }
    },
    {
      "cell_type": "code",
      "source": [
        "def bisec(f,a,b,acc):\n",
        "  iter=0\n",
        "  if f(a)<f(b):\n",
        "    a,b=b,a\n",
        "  m=a\n",
        "  while abs(f(m))>acc:\n",
        "    m=(a+b)/2\n",
        "    if f(m)>0:\n",
        "      a=m\n",
        "    else:\n",
        "      b=m\n",
        "    iter+=1\n",
        "  return m,iter"
      ],
      "metadata": {
        "id": "mZktudpuQbaI"
      },
      "execution_count": 15,
      "outputs": []
    },
    {
      "cell_type": "code",
      "source": [
        "def f(x):\n",
        "  return x**2+3*x-17\n",
        "bisec(f,0,10,.001)"
      ],
      "metadata": {
        "colab": {
          "base_uri": "https://localhost:8080/"
        },
        "id": "QRM_MAoIRNoH",
        "outputId": "e01186ff-e875-4171-f7d4-d788de822380"
      },
      "execution_count": 25,
      "outputs": [
        {
          "output_type": "execute_result",
          "data": {
            "text/plain": [
              "(2.8875732421875, 14)"
            ]
          },
          "metadata": {},
          "execution_count": 25
        }
      ]
    },
    {
      "cell_type": "markdown",
      "source": [
        "roots"
      ],
      "metadata": {
        "id": "7WDMCaR4TDLH"
      }
    },
    {
      "cell_type": "code",
      "source": [
        "def root(x,n,acc):\n",
        "  def f(a):\n",
        "    return a**n-x\n",
        "  def df(a):\n",
        "    return n*a**(n-1)\n",
        "  return myRootNR(f,df,10,.001)"
      ],
      "metadata": {
        "id": "xJpAVfr2TE5E"
      },
      "execution_count": 24,
      "outputs": []
    },
    {
      "cell_type": "code",
      "source": [
        "root(2,2,.001)"
      ],
      "metadata": {
        "colab": {
          "base_uri": "https://localhost:8080/"
        },
        "id": "_7_IIuZLTg5e",
        "outputId": "cf037040-d82c-4b0a-d613-68acef62b499"
      },
      "execution_count": 26,
      "outputs": [
        {
          "output_type": "execute_result",
          "data": {
            "text/plain": [
              "(1.4145256551487377, 5)"
            ]
          },
          "metadata": {},
          "execution_count": 26
        }
      ]
    },
    {
      "cell_type": "markdown",
      "source": [
        "intersection"
      ],
      "metadata": {
        "id": "yjLJHKVFULcz"
      }
    },
    {
      "cell_type": "code",
      "source": [
        "def intersect(f,g,a,b,acc):\n",
        "  def d(x):\n",
        "    return f(x)-g(x)\n",
        "  return bisec(d,a,b,acc)"
      ],
      "metadata": {
        "id": "Cnrbj7MZUNhH"
      },
      "execution_count": 20,
      "outputs": []
    },
    {
      "cell_type": "code",
      "source": [
        "def f(x): return x**2\n",
        "def g(x): return x**3-1\n",
        "intersect(f,g,0,10,.001)"
      ],
      "metadata": {
        "colab": {
          "base_uri": "https://localhost:8080/"
        },
        "id": "U1kvEqAJUsLb",
        "outputId": "e86c2993-5899-48f1-a74b-4d9546130d9e"
      },
      "execution_count": 23,
      "outputs": [
        {
          "output_type": "execute_result",
          "data": {
            "text/plain": [
              "(1.4654541015625, 14)"
            ]
          },
          "metadata": {},
          "execution_count": 23
        }
      ]
    }
  ]
}