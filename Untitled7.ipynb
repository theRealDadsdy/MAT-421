{
  "nbformat": 4,
  "nbformat_minor": 0,
  "metadata": {
    "colab": {
      "name": "Untitled7.ipynb",
      "provenance": [],
      "authorship_tag": "ABX9TyO8a21QQ3Nf5Bxftj2k+pC3",
      "include_colab_link": true
    },
    "kernelspec": {
      "name": "python3",
      "display_name": "Python 3"
    },
    "language_info": {
      "name": "python"
    }
  },
  "cells": [
    {
      "cell_type": "markdown",
      "metadata": {
        "id": "view-in-github",
        "colab_type": "text"
      },
      "source": [
        "<a href=\"https://colab.research.google.com/github/theRealDadsdy/MAT-421/blob/main/Untitled7.ipynb\" target=\"_parent\"><img src=\"https://colab.research.google.com/assets/colab-badge.svg\" alt=\"Open In Colab\"/></a>"
      ]
    },
    {
      "cell_type": "code",
      "execution_count": 6,
      "metadata": {
        "id": "NuQ7IEtIFnmo",
        "colab": {
          "base_uri": "https://localhost:8080/"
        },
        "outputId": "ff1e3535-cc4b-4bb2-a7c1-a959caa72b9d"
      },
      "outputs": [
        {
          "output_type": "stream",
          "name": "stdout",
          "text": [
            "The value of the function at\n",
            "0.0 is 1\n",
            "0.5 is 1.644631821843882\n",
            "1.0 is 2.704813829421526\n",
            "1.5 is 4.448422896030049\n",
            "2.0 is 7.316017851829933\n",
            "2.5 is 12.032155768297429\n",
            "3.0 is 19.78846626192438\n",
            "3.5 is 32.54474131984487\n",
            "4.0 is 53.524117208294335\n",
            "4.5 is 88.02746639686254\n",
            "5.0 is 144.77277243257308\n"
          ]
        }
      ],
      "source": [
        "def graph(f,start=-5,end=5,spacing=.5):\n",
        "  print(\"The value of the function at\")\n",
        "  for x in range(int(start/spacing), int(end/spacing)+1):\n",
        "    print(round(x*spacing,10),\"is\",f(round(x*spacing,10)))\n",
        "def derivitivesolve(F,startx=0,starty=1):\n",
        "  def f(x):\n",
        "    y=starty\n",
        "    for i in range(int(100*(x-startx))):\n",
        "      y+=F(i/100,y)/100\n",
        "    return y\n",
        "  return f\n",
        "graph(derivitivesolve(lambda x,y:y),0,5)"
      ]
    }
  ]
}