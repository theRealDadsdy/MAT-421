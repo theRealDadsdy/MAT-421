{
  "nbformat": 4,
  "nbformat_minor": 0,
  "metadata": {
    "colab": {
      "name": "Untitled3.ipynb",
      "provenance": [],
      "authorship_tag": "ABX9TyO1wh0Khj3yE0yV6nTfm7im",
      "include_colab_link": true
    },
    "kernelspec": {
      "name": "python3",
      "display_name": "Python 3"
    },
    "language_info": {
      "name": "python"
    }
  },
  "cells": [
    {
      "cell_type": "markdown",
      "metadata": {
        "id": "view-in-github",
        "colab_type": "text"
      },
      "source": [
        "<a href=\"https://colab.research.google.com/github/theRealDadsdy/MAT-421/blob/main/Untitled3.ipynb\" target=\"_parent\"><img src=\"https://colab.research.google.com/assets/colab-badge.svg\" alt=\"Open In Colab\"/></a>"
      ]
    },
    {
      "cell_type": "markdown",
      "source": [
        "Global and local vars"
      ],
      "metadata": {
        "id": "LH2D5RIdbtxa"
      }
    },
    {
      "cell_type": "code",
      "source": [
        "a=2\n",
        "def changea():\n",
        "  a=3\n",
        "changea()\n",
        "print(a)\n",
        "def globalchangea():\n",
        "  global a\n",
        "  a=5\n",
        "globalchangea()\n",
        "print(a)"
      ],
      "metadata": {
        "colab": {
          "base_uri": "https://localhost:8080/"
        },
        "id": "xUMvw2lzbwdh",
        "outputId": "23bce971-6227-41a2-a89d-7384725880ae"
      },
      "execution_count": 4,
      "outputs": [
        {
          "output_type": "stream",
          "name": "stdout",
          "text": [
            "2\n",
            "5\n"
          ]
        }
      ]
    },
    {
      "cell_type": "markdown",
      "source": [
        "Nested functions"
      ],
      "metadata": {
        "id": "7pnUJ35_cMgn"
      }
    },
    {
      "cell_type": "code",
      "source": [
        "def nests():\n",
        "  def f(x,y):\n",
        "    return x**2+y**2\n",
        "  x=7\n",
        "  y=3\n",
        "  return f(x,y)\n",
        "nests()"
      ],
      "metadata": {
        "colab": {
          "base_uri": "https://localhost:8080/"
        },
        "id": "IycwEbWOcO8j",
        "outputId": "2e385cca-41aa-4a74-9341-67ce88661467"
      },
      "execution_count": 5,
      "outputs": [
        {
          "output_type": "execute_result",
          "data": {
            "text/plain": [
              "58"
            ]
          },
          "metadata": {},
          "execution_count": 5
        }
      ]
    }
  ]
}