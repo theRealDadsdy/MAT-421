{
  "nbformat": 4,
  "nbformat_minor": 0,
  "metadata": {
    "colab": {
      "name": "Untitled3.ipynb",
      "provenance": [],
      "authorship_tag": "ABX9TyPqjb9bXCZwyt2cV2TpSJkA",
      "include_colab_link": true
    },
    "kernelspec": {
      "name": "python3",
      "display_name": "Python 3"
    },
    "language_info": {
      "name": "python"
    }
  },
  "cells": [
    {
      "cell_type": "markdown",
      "metadata": {
        "id": "view-in-github",
        "colab_type": "text"
      },
      "source": [
        "<a href=\"https://colab.research.google.com/github/theRealDadsdy/MAT-421/blob/main/Untitled3.ipynb\" target=\"_parent\"><img src=\"https://colab.research.google.com/assets/colab-badge.svg\" alt=\"Open In Colab\"/></a>"
      ]
    },
    {
      "cell_type": "code",
      "execution_count": 4,
      "metadata": {
        "id": "ezk-NOTK8Mnl",
        "colab": {
          "base_uri": "https://localhost:8080/"
        },
        "outputId": "54bb06d7-1cce-4c3a-eadf-afb0559bda6d"
      },
      "outputs": [
        {
          "output_type": "stream",
          "name": "stdout",
          "text": [
            "I wuv python\n",
            "60.0\n",
            "235.61924999999997\n",
            "and(True,True) is True\n",
            "and(True,False) is False\n",
            "and(False,True) is False\n",
            "and(False,False) is False\n",
            "or(True,True) is True\n",
            "or(True,False) is True\n",
            "or(False,True) is True\n",
            "or(False,False) is False\n",
            "xor(True,True) is False\n",
            "xor(True,False) is True\n",
            "xor(False,True) is True\n",
            "xor(False,False) is False\n"
          ]
        }
      ],
      "source": [
        "print(\"I wuv python\")\n",
        "A=1/2*10*12\n",
        "print(A)\n",
        "S=3.14159*3*5**2\n",
        "print(S)\n",
        "def truthTable(f, fname):\n",
        "  for x in [True,False]:\n",
        "    for y in [True,False]:\n",
        "      print(fname+'('+str(x)+','+str(y)+') is',f(x,y))\n",
        "def And(x,y):return x and y\n",
        "def Or(x,y):return x or y\n",
        "def Xor(x,y):return (x or y) and not (x and y)\n",
        "truthTable(And,'and')\n",
        "truthTable(Or,'or')\n",
        "truthTable(Xor,'xor')"
      ]
    }
  ]
}