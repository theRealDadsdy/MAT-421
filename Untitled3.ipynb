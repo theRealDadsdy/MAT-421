{
  "nbformat": 4,
  "nbformat_minor": 0,
  "metadata": {
    "colab": {
      "name": "Untitled3.ipynb",
      "provenance": [],
      "authorship_tag": "ABX9TyMSq9a5bcUEYHP5ZRwVx9S0"
    },
    "kernelspec": {
      "name": "python3",
      "display_name": "Python 3"
    },
    "language_info": {
      "name": "python"
    }
  },
  "cells": [
    {
      "cell_type": "code",
      "source": [
        "f = lambda x:x**2\n",
        "def doubleFunction(func):\n",
        "  return lambda x:2*func(x)\n",
        "g=doubleFunction(f)\n",
        "def functionGraph(func,name,values=range(-5,6)):\n",
        "  print(\"Graph of\",name)\n",
        "  for val in values: print((val,func(val)))\n",
        "functionGraph(f,'f')\n",
        "functionGraph(g,'g')"
      ],
      "metadata": {
        "colab": {
          "base_uri": "https://localhost:8080/"
        },
        "id": "PqPfr6NGQNhY",
        "outputId": "9f7264a0-bce2-49c1-efd6-d6ccc22f1ff6"
      },
      "execution_count": 9,
      "outputs": [
        {
          "output_type": "stream",
          "name": "stdout",
          "text": [
            "Graph of f\n",
            "(-5, 25)\n",
            "(-4, 16)\n",
            "(-3, 9)\n",
            "(-2, 4)\n",
            "(-1, 1)\n",
            "(0, 0)\n",
            "(1, 1)\n",
            "(2, 4)\n",
            "(3, 9)\n",
            "(4, 16)\n",
            "(5, 25)\n",
            "Graph of g\n",
            "(-5, 50)\n",
            "(-4, 32)\n",
            "(-3, 18)\n",
            "(-2, 8)\n",
            "(-1, 2)\n",
            "(0, 0)\n",
            "(1, 2)\n",
            "(2, 8)\n",
            "(3, 18)\n",
            "(4, 32)\n",
            "(5, 50)\n"
          ]
        }
      ]
    }
  ]
}