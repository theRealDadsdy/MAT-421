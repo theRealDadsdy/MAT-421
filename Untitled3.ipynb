{
  "nbformat": 4,
  "nbformat_minor": 0,
  "metadata": {
    "colab": {
      "name": "Untitled3.ipynb",
      "provenance": [],
      "authorship_tag": "ABX9TyOCTPidrtrhBgQO6UJpZFRG"
    },
    "kernelspec": {
      "name": "python3",
      "display_name": "Python 3"
    },
    "language_info": {
      "name": "python"
    }
  },
  "cells": [
    {
      "cell_type": "code",
      "source": [
        "lim = lambda f,x:round((f(x+.000001)+f(x-.000001))/2,5)\n",
        "def lim(f,x,r=True):\n",
        "  if r: return round((f(x+.000001)+f(x-.000001))/2,5)\n",
        "  else: return (f(x+.000001)+f(x-.000001))/2,5\n",
        "print(lim(lambda x:(x**2+2*x+1)/(x+1),-1))\n",
        "def derivitive(f,r=True):\n",
        "  def df(x):\n",
        "    return lim(lambda h:(f(x+h)-f(x))/h,x,r)\n",
        "  return df\n",
        "f=lambda x:3*x**3-2*x**2+5*x-1\n",
        "df=derivitive(f)\n",
        "print(df(0),df(1),df(2))\n",
        "def graph(f,start=-5,end=5,spacing=.5):\n",
        "  print(\"The value of the function at\")\n",
        "  for x in range(int(start/spacing), int(end/spacing)+1):\n",
        "    print(round(x*spacing,10),\"is\",f(round(x*spacing,10)))\n",
        "graph(f)\n",
        "graph(df)"
      ],
      "metadata": {
        "colab": {
          "base_uri": "https://localhost:8080/"
        },
        "id": "Chsy7x0VSS6_",
        "outputId": "7bdd3d03-8b04-4d25-a93d-927db9c88835"
      },
      "execution_count": 20,
      "outputs": [
        {
          "output_type": "stream",
          "name": "stdout",
          "text": [
            "-0.0\n",
            "5.0 20.0 77.0\n",
            "The value of the function at\n",
            "-5.0 is -451.0\n",
            "-4.5 is -337.375\n",
            "-4.0 is -245.0\n",
            "-3.5 is -171.625\n",
            "-3.0 is -115.0\n",
            "-2.5 is -72.875\n",
            "-2.0 is -43.0\n",
            "-1.5 is -23.125\n",
            "-1.0 is -11.0\n",
            "-0.5 is -4.375\n",
            "0.0 is -1.0\n",
            "0.5 is 1.375\n",
            "1.0 is 5.0\n",
            "1.5 is 12.125\n",
            "2.0 is 25.0\n",
            "2.5 is 45.875\n",
            "3.0 is 77.0\n",
            "3.5 is 120.625\n",
            "4.0 is 179.0\n",
            "4.5 is 254.375\n",
            "5.0 is 349.0\n",
            "The value of the function at\n",
            "-5.0 is 560.0\n",
            "-4.5 is 457.25\n",
            "-4.0 is 365.0\n",
            "-3.5 is 283.25\n",
            "-3.0 is 212.0\n",
            "-2.5 is 151.25\n",
            "-2.0 is 101.0\n",
            "-1.5 is 61.25\n",
            "-1.0 is 32.0\n",
            "-0.5 is 13.25\n",
            "0.0 is 5.0\n",
            "0.5 is 7.25\n",
            "1.0 is 20.0\n",
            "1.5 is 43.25\n",
            "2.0 is 77.0\n",
            "2.5 is 121.25\n",
            "3.0 is 176.0\n",
            "3.5 is 241.25\n",
            "4.0 is 317.0\n",
            "4.5 is 403.25\n",
            "5.0 is 500.0\n"
          ]
        }
      ]
    }
  ]
}