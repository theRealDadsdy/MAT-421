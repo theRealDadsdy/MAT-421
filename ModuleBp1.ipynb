{
  "nbformat": 4,
  "nbformat_minor": 0,
  "metadata": {
    "colab": {
      "name": "Untitled0.ipynb",
      "provenance": [],
      "authorship_tag": "ABX9TyOWyx0NsFdmJdns73fXfkrp",
      "include_colab_link": true
    },
    "kernelspec": {
      "name": "python3",
      "display_name": "Python 3"
    },
    "language_info": {
      "name": "python"
    }
  },
  "cells": [
    {
      "cell_type": "markdown",
      "metadata": {
        "id": "view-in-github",
        "colab_type": "text"
      },
      "source": [
        "<a href=\"https://colab.research.google.com/github/theRealDadsdy/MAT-421/blob/main/ModuleBp1.ipynb\" target=\"_parent\"><img src=\"https://colab.research.google.com/assets/colab-badge.svg\" alt=\"Open In Colab\"/></a>"
      ]
    },
    {
      "cell_type": "markdown",
      "source": [
        "Nearest interporlation"
      ],
      "metadata": {
        "id": "JPZaZarWHYsm"
      }
    },
    {
      "cell_type": "code",
      "source": [
        "def near_interp(X,Y,x):\n",
        "  p=0\n",
        "  for a in range(1,len(X)):\n",
        "    if abs(X[a]-x)<abs(X[p]-x):\n",
        "      p=a\n",
        "      abs(X[a]-x)\n",
        "  return Y[p]"
      ],
      "metadata": {
        "id": "V3hsF3dyHgtm"
      },
      "execution_count": 2,
      "outputs": []
    },
    {
      "cell_type": "code",
      "source": [
        "near_interp([1,2,3,4,5,8,11],[1,6,2,7,2,-1,0],6)"
      ],
      "metadata": {
        "colab": {
          "base_uri": "https://localhost:8080/"
        },
        "id": "hoYw9ziIIxB5",
        "outputId": "2609c740-2c78-4336-da93-909266f3da18"
      },
      "execution_count": 3,
      "outputs": [
        {
          "output_type": "execute_result",
          "data": {
            "text/plain": [
              "2"
            ]
          },
          "metadata": {},
          "execution_count": 3
        }
      ]
    },
    {
      "cell_type": "markdown",
      "source": [
        "Linear interporlation"
      ],
      "metadata": {
        "id": "MpCxLU8vKCIK"
      }
    },
    {
      "cell_type": "code",
      "source": [
        "def linear_interp(X,Y,x):\n",
        "  if x<X[0]:\n",
        "    return Y[0]\n",
        "  if x>X[-1]:\n",
        "    return Y[-1]\n",
        "  for i in range(len(X)):\n",
        "    if x<X[i+1]:\n",
        "      break\n",
        "  return Y[i]+((Y[i+1]-Y[i])*(x-X[i])/(X[i+1]-X[i]))\n"
      ],
      "metadata": {
        "id": "iS3DeCnrKJFx"
      },
      "execution_count": 4,
      "outputs": []
    },
    {
      "cell_type": "code",
      "source": [
        "linear_interp([1,2,3,4,5,8,11],[1,6,2,7,2,-1,0],6)"
      ],
      "metadata": {
        "colab": {
          "base_uri": "https://localhost:8080/"
        },
        "id": "J9zlgkSo7R9D",
        "outputId": "95a205bc-a14b-4b0b-c003-9be5a367f3a8"
      },
      "execution_count": 5,
      "outputs": [
        {
          "output_type": "execute_result",
          "data": {
            "text/plain": [
              "1.0"
            ]
          },
          "metadata": {},
          "execution_count": 5
        }
      ]
    }
  ]
}