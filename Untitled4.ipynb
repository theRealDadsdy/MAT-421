{
  "nbformat": 4,
  "nbformat_minor": 0,
  "metadata": {
    "colab": {
      "name": "Untitled4.ipynb",
      "provenance": [],
      "authorship_tag": "ABX9TyPXrWd9z9QQ25awSSxS2/bZ",
      "include_colab_link": true
    },
    "kernelspec": {
      "name": "python3",
      "display_name": "Python 3"
    },
    "language_info": {
      "name": "python"
    }
  },
  "cells": [
    {
      "cell_type": "markdown",
      "metadata": {
        "id": "view-in-github",
        "colab_type": "text"
      },
      "source": [
        "<a href=\"https://colab.research.google.com/github/theRealDadsdy/MAT-421/blob/main/Untitled4.ipynb\" target=\"_parent\"><img src=\"https://colab.research.google.com/assets/colab-badge.svg\" alt=\"Open In Colab\"/></a>"
      ]
    },
    {
      "cell_type": "code",
      "execution_count": 16,
      "metadata": {
        "id": "sTlKeSuZ71jQ",
        "colab": {
          "base_uri": "https://localhost:8080/"
        },
        "outputId": "44d387e2-452f-4297-fae3-1e53c666eed6"
      },
      "outputs": [
        {
          "output_type": "stream",
          "name": "stdout",
          "text": [
            "0\n",
            "The value of the function at\n",
            "0.0 is 0\n",
            "0.25 is 0.005177125\n",
            "0.5 is 0.04154175\n",
            "0.75 is 0.140343875\n",
            "1.0 is 0.3328335\n",
            "1.25 is 0.650260625\n",
            "1.5 is 1.12387525\n",
            "1.75 is 1.784927375\n",
            "2.0 is 2.664667\n",
            "2.25 is 3.794344125\n",
            "2.5 is 5.20520875\n",
            "2.75 is 6.928510875\n",
            "3.0 is 8.9955005\n",
            "3.25 is 11.437427625\n",
            "3.5 is 14.28554225\n",
            "3.75 is 17.571094375\n",
            "4.0 is 21.325334\n",
            "4.25 is 25.579511125\n",
            "4.5 is 30.36487575\n",
            "4.75 is 35.712677875\n",
            "5.0 is 41.6541675\n"
          ]
        }
      ],
      "source": [
        "def sigma(a,b,f):\n",
        "  ans=0\n",
        "  for x in range(a,b+1):\n",
        "    ans+=f(x)\n",
        "  return ans\n",
        "def integral(f,s=0,i=.001,r=True):\n",
        "  def integralf(x):\n",
        "    return sigma(int(s/i),int(x/i-1),lambda x:i*f(x*i))\n",
        "  if r:\n",
        "    return lambda x:round(integralf(x),10)\n",
        "  return integralf\n",
        "f=lambda x:x**2\n",
        "def graph(f,start=-5,end=5,spacing=.5):\n",
        "  print(\"The value of the function at\")\n",
        "  for x in range(int(start/spacing), int(end/spacing)+1):\n",
        "    print(round(x*spacing,10),\"is\",f(round(x*spacing,10)))\n",
        "print(sigma(0,0,lambda x:x*2))\n",
        "graph(integral(f),0,5,.25)"
      ]
    }
  ]
}