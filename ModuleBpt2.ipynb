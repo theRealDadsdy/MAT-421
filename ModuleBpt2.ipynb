{
  "nbformat": 4,
  "nbformat_minor": 0,
  "metadata": {
    "colab": {
      "name": "Untitled1.ipynb",
      "provenance": [],
      "authorship_tag": "ABX9TyPTZq6VF2gLbT8MIFqjhU2Y",
      "include_colab_link": true
    },
    "kernelspec": {
      "name": "python3",
      "display_name": "Python 3"
    },
    "language_info": {
      "name": "python"
    }
  },
  "cells": [
    {
      "cell_type": "markdown",
      "metadata": {
        "id": "view-in-github",
        "colab_type": "text"
      },
      "source": [
        "<a href=\"https://colab.research.google.com/github/theRealDadsdy/MAT-421/blob/main/ModuleBpt2.ipynb\" target=\"_parent\"><img src=\"https://colab.research.google.com/assets/colab-badge.svg\" alt=\"Open In Colab\"/></a>"
      ]
    },
    {
      "cell_type": "markdown",
      "source": [
        "Larange Interporlation"
      ],
      "metadata": {
        "id": "42wjKFpkqFPv"
      }
    },
    {
      "cell_type": "code",
      "execution_count": 7,
      "metadata": {
        "id": "Tni1W2mNzBoA"
      },
      "outputs": [],
      "source": [
        "def larangeInterp(X,Y,x):\n",
        "  def P(i,x):\n",
        "    v=1;\n",
        "    for j in range(len(X)):\n",
        "      if j!=i:v*=(x-X[j])/(X[i]-X[j])\n",
        "    return v\n",
        "  y=0;\n",
        "  for i in range(len(X)):\n",
        "    y+=Y[i]*P(i,x)\n",
        "  return y"
      ]
    },
    {
      "cell_type": "code",
      "source": [
        "larangeInterp([1,2,3,4,5,8,11],[1,6,2,7,2,-1,2],6)"
      ],
      "metadata": {
        "colab": {
          "base_uri": "https://localhost:8080/"
        },
        "id": "AtbhfcRaqLlW",
        "outputId": "e04e1f64-edf1-42af-9b17-e51769b03791"
      },
      "execution_count": 9,
      "outputs": [
        {
          "output_type": "execute_result",
          "data": {
            "text/plain": [
              "-19.94179894179894"
            ]
          },
          "metadata": {},
          "execution_count": 9
        }
      ]
    },
    {
      "cell_type": "markdown",
      "source": [
        "Newton Polynomial Intorporlation"
      ],
      "metadata": {
        "id": "qpPOEbgfspUG"
      }
    },
    {
      "cell_type": "code",
      "source": [
        "def polyInterp(X,Y,x):\n",
        "  n=len(X)\n",
        "  if n==1:return Y[0]\n",
        "  else:\n",
        "    def f(x): return polyInterp(X[0:n-1],Y[0:n-1],x)\n",
        "    d=1\n",
        "    s=1\n",
        "    for i in range(n-1):\n",
        "      d*=X[-1]-X[i]\n",
        "      s*=x-X[i]\n",
        "    return f(x)+s*(Y[-1]-f(X[-1]))/d"
      ],
      "metadata": {
        "id": "ABe3n53vszLP"
      },
      "execution_count": 21,
      "outputs": []
    },
    {
      "cell_type": "code",
      "source": [
        "polyInterp([0,1,2,4,5,6],[0,1,2,1,0,3],3)"
      ],
      "metadata": {
        "colab": {
          "base_uri": "https://localhost:8080/"
        },
        "id": "TPQfcc2nvU4W",
        "outputId": "e7620405-d4c0-4630-cb0c-3f4b56277cac"
      },
      "execution_count": 22,
      "outputs": [
        {
          "output_type": "execute_result",
          "data": {
            "text/plain": [
              "2.1"
            ]
          },
          "metadata": {},
          "execution_count": 22
        }
      ]
    }
  ]
}