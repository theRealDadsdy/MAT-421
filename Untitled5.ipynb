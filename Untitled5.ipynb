{
  "nbformat": 4,
  "nbformat_minor": 0,
  "metadata": {
    "colab": {
      "name": "Untitled5.ipynb",
      "provenance": [],
      "authorship_tag": "ABX9TyMJWN1w3NDVi7QgVQwA2O+I",
      "include_colab_link": true
    },
    "kernelspec": {
      "name": "python3",
      "display_name": "Python 3"
    },
    "language_info": {
      "name": "python"
    }
  },
  "cells": [
    {
      "cell_type": "markdown",
      "metadata": {
        "id": "view-in-github",
        "colab_type": "text"
      },
      "source": [
        "<a href=\"https://colab.research.google.com/github/theRealDadsdy/MAT-421/blob/main/Untitled5.ipynb\" target=\"_parent\"><img src=\"https://colab.research.google.com/assets/colab-badge.svg\" alt=\"Open In Colab\"/></a>"
      ]
    },
    {
      "cell_type": "code",
      "execution_count": 7,
      "metadata": {
        "colab": {
          "base_uri": "https://localhost:8080/"
        },
        "id": "hMJar2ONlmUM",
        "outputId": "8308ee0e-5069-42f8-c2e2-6601a6957cb0"
      },
      "outputs": [
        {
          "output_type": "stream",
          "name": "stdout",
          "text": [
            "The value of the function at\n",
            "0.0 is 0.0\n",
            "0.25 is 0.0052083333\n",
            "0.5 is 0.0416666667\n",
            "0.75 is 0.140625\n",
            "1.0 is 0.3333333333\n",
            "1.25 is 0.6510416667\n",
            "1.5 is 1.125\n",
            "1.75 is 1.7864583333\n",
            "2.0 is 2.6666666667\n",
            "2.25 is 3.796875\n",
            "2.5 is 5.2083333333\n",
            "2.75 is 6.9322916667\n",
            "3.0 is 9.0\n",
            "3.25 is 11.4427083333\n",
            "3.5 is 14.2916666667\n",
            "3.75 is 17.578125\n",
            "4.0 is 21.3333333333\n",
            "4.25 is 25.5885416667\n",
            "4.5 is 30.375\n",
            "4.75 is 35.7239583333\n",
            "5.0 is 41.6666666667\n"
          ]
        }
      ],
      "source": [
        "def sigma(a,b,f):\n",
        "  ans=0\n",
        "  for x in range(a,b+1):\n",
        "    ans+=f(x)\n",
        "  return ans\n",
        "def simintegral(f,s=0,h=.001,r=True):\n",
        "  def integralf(x):\n",
        "    return h/3*(f(s)+4*sigma(0,int((x-s)/(2*h)-1),lambda i: f(2*h*i+h+s))+2*sigma(1,int((x-s)/(2*h)-1),lambda i: f(2*h*i+s))+f(x))\n",
        "  if r:\n",
        "    return lambda x:round(integralf(x),10)\n",
        "  return integralf\n",
        "def graph(f,start=-5,end=5,spacing=.5):\n",
        "  print(\"The value of the function at\")\n",
        "  for x in range(int(start/spacing), int(end/spacing)+1):\n",
        "    print(round(x*spacing,10),\"is\",f(round(x*spacing,10)))\n",
        "graph(simintegral(lambda x:x**2),0,5,.25)"
      ]
    }
  ]
}